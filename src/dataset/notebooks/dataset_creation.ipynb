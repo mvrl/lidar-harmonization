{
 "cells": [
  {
   "cell_type": "code",
   "execution_count": 2,
   "metadata": {},
   "outputs": [],
   "source": [
    "import numpy as np\n",
    "import pandas as pd\n",
    "from pathlib import Path\n",
    "from tqdm import tqdm, trange\n",
    "import matplotlib.pyplot as plt\n",
    "import os\n"
   ]
  },
  {
   "cell_type": "code",
   "execution_count": 3,
   "metadata": {},
   "outputs": [
    {
     "name": "stdout",
     "output_type": "stream",
     "text": [
      "18.141022422 G\n"
     ]
    }
   ],
   "source": [
    "# Create a dataset of all examples\n",
    "\n",
    "dataset_path = Path(\"../150\")\n",
    "\n",
    "def get_size(start_path = '.'):\n",
    "    total_size = 0\n",
    "    for dirpath, dirnames, filenames in os.walk(start_path):\n",
    "        for f in filenames:\n",
    "            fp = os.path.join(dirpath, f)\n",
    "            # skip if it is symbolic link\n",
    "            if not os.path.islink(fp):\n",
    "                total_size += os.path.getsize(fp)\n",
    "\n",
    "    return total_size\n",
    "\n",
    "print(get_size(dataset_path)/(1000**3), 'G')                 "
   ]
  },
  {
   "cell_type": "code",
   "execution_count": 4,
   "metadata": {},
   "outputs": [
    {
     "name": "stderr",
     "output_type": "stream",
     "text": [
      "processing: 100%|██████████| 1993653/1993653 [00:02<00:00, 779241.50it/s]\n"
     ]
    },
    {
     "name": "stdout",
     "output_type": "stream",
     "text": [
      "                                            examples source_cam target_cam  \\\n",
      "0  /home/david/bin/python/intensity/src/dataset/n...         16         16   \n",
      "1  /home/david/bin/python/intensity/src/dataset/n...         40         40   \n",
      "2  /home/david/bin/python/intensity/src/dataset/n...         22         22   \n",
      "3  /home/david/bin/python/intensity/src/dataset/n...         21         21   \n",
      "4  /home/david/bin/python/intensity/src/dataset/n...         19         19   \n",
      "\n",
      "  target_intensity  \n",
      "0              264  \n",
      "1              270  \n",
      "2              380  \n",
      "3              112  \n",
      "4              318  \n",
      "                                                  examples source_cam  \\\n",
      "1993648  /home/david/bin/python/intensity/src/dataset/n...         34   \n",
      "1993649  /home/david/bin/python/intensity/src/dataset/n...         10   \n",
      "1993650  /home/david/bin/python/intensity/src/dataset/n...         32   \n",
      "1993651  /home/david/bin/python/intensity/src/dataset/n...         30   \n",
      "1993652  /home/david/bin/python/intensity/src/dataset/n...          0   \n",
      "\n",
      "        target_cam target_intensity  \n",
      "1993648         34              460  \n",
      "1993649          1               82  \n",
      "1993650         32              398  \n",
      "1993651         30              347  \n",
      "1993652          1              505  \n"
     ]
    }
   ],
   "source": [
    "examples = [f.absolute() for f in (dataset_path / \"neighborhoods\").glob(\"*.txt.gz\")]\n",
    "intensities = [None] * len(examples)\n",
    "source_cam = [None] * len(examples)\n",
    "target_cam = [None] * len(examples)\n",
    "\n",
    "for i in trange(len(examples), desc=\"processing\"):\n",
    "    filename = examples[i].stem\n",
    "    source_cam[i] = filename.split(\"_\")[0]\n",
    "    target_cam[i] = filename.split(\"_\")[1]\n",
    "    intensities[i] = filename.split(\"_\")[2]\n",
    "    \n",
    "df = pd.DataFrame()\n",
    "df['examples'] = examples\n",
    "df['source_cam'] = source_cam\n",
    "df['target_cam'] = target_cam\n",
    "df['target_intensity'] = intensities\n",
    "df[\"source_cam\"] = pd.to_numeric(df[\"source_cam\"])\n",
    "df[\"target_cam\"] = pd.to_numeric(df[\"target_cam\"])\n",
    "df[\"target_intensity\"] = pd.to_numeric(df[\"target_intensity\"])\n",
    "df.to_csv(dataset_path / \"master.csv\")\n",
    "\n",
    "print(df.head())\n",
    "print(df.tail())"
   ]
  },
  {
   "cell_type": "code",
   "execution_count": 5,
   "metadata": {},
   "outputs": [
    {
     "name": "stderr",
     "output_type": "stream",
     "text": [
      "counting camera pair examples: 100%|██████████| 1993653/1993653 [02:59<00:00, 11086.41it/s]\n"
     ]
    }
   ],
   "source": [
    "# Check balance between camera pairs\n",
    "camera_d = {}\n",
    "for i in trange(len(df), desc=\"counting camera pair examples\"):\n",
    "    row = df.iloc[i]\n",
    "    current_pair = (row['source_cam'], row['target_cam'])\n",
    "\n",
    "    if current_pair not in camera_d:\n",
    "        camera_d[current_pair] = 1\n",
    "    else:\n",
    "        camera_d[current_pair] += 1\n"
   ]
  },
  {
   "cell_type": "code",
   "execution_count": 26,
   "metadata": {
    "scrolled": true
   },
   "outputs": [],
   "source": [
    "# if there is not enough overlap, remove this key from consideration\n",
    "overlap = {}\n",
    "noverlap = {}\n",
    "\n",
    "for key, value in camera_d.items():\n",
    "    if key[1] == '1': \n",
    "        overlap[key[0]] = value\n",
    "    else:\n",
    "        noverlap[key[0]] = value\n",
    "        \n",
    "f_overlap = {}\n",
    "f_noverlap = {}\n",
    "for key, value in overlap.items():\n",
    "    if value > 40000:\n",
    "        f_overlap[key] = value\n",
    "        f_noverlap[key] = noverlap[key]\n",
    "\n"
   ]
  },
  {
   "cell_type": "code",
   "execution_count": 61,
   "metadata": {},
   "outputs": [
    {
     "data": {
      "image/png": "[encoded data removed]",
      "text/plain": [
       "<Figure size 432x288 with 1 Axes>"
      ]
     },
     "metadata": {
      "needs_background": "light"
     },
     "output_type": "display_data"
    },
    {
     "data": {
      "image/png": "[encoded data removed]",
      "text/plain": [
       "<Figure size 432x288 with 1 Axes>"
      ]
     },
     "metadata": {
      "needs_background": "light"
     },
     "output_type": "display_data"
    },
    {
     "name": "stdout",
     "output_type": "stream",
     "text": [
      "15\n",
      "dict_keys(['0', '27', '39', '26', '15', '40', '30', '32'])\n",
      "dict_keys(['0', '27', '39', '26', '15', '40', '30', '32'])\n"
     ]
    }
   ],
   "source": [
    "plt.bar(range(len(f_overlap.keys())), f_overlap.values())\n",
    "plt.show()\n",
    "plt.bar(range(len(f_noverlap.keys())), f_noverlap.values())\n",
    "plt.show()\n",
    "my_scans = f_overlap.keys()\n",
    "max_scan = max(f_overlap, key=f_overlap.get)\n",
    "print(max_scan)\n",
    "print(my_scans)\n",
    "print(f_noverlap.keys())"
   ]
  },
  {
   "cell_type": "code",
   "execution_count": 42,
   "metadata": {},
   "outputs": [
    {
     "name": "stdout",
     "output_type": "stream",
     "text": [
      "['0', '27', '39', '26', '15', '40', '30', '32']\n",
      "0\n"
     ]
    },
    {
     "data": {
      "image/png": "[encoded data removed]",
      "text/plain": [
       "<Figure size 432x288 with 1 Axes>"
      ]
     },
     "metadata": {
      "needs_background": "light"
     },
     "output_type": "display_data"
    },
    {
     "name": "stdout",
     "output_type": "stream",
     "text": [
      "27\n"
     ]
    },
    {
     "data": {
      "image/png": "[encoded data removed]",
      "text/plain": [
       "<Figure size 432x288 with 1 Axes>"
      ]
     },
     "metadata": {
      "needs_background": "light"
     },
     "output_type": "display_data"
    },
    {
     "name": "stdout",
     "output_type": "stream",
     "text": [
      "39\n"
     ]
    },
    {
     "data": {
      "image/png": "[encoded data removed]",
      "text/plain": [
       "<Figure size 432x288 with 1 Axes>"
      ]
     },
     "metadata": {
      "needs_background": "light"
     },
     "output_type": "display_data"
    },
    {
     "name": "stdout",
     "output_type": "stream",
     "text": [
      "26\n"
     ]
    },
    {
     "data": {
      "image/png": "[encoded data removed]",
      "text/plain": [
       "<Figure size 432x288 with 1 Axes>"
      ]
     },
     "metadata": {
      "needs_background": "light"
     },
     "output_type": "display_data"
    },
    {
     "name": "stdout",
     "output_type": "stream",
     "text": [
      "15\n"
     ]
    },
    {
     "data": {
      "image/png": "[encoded data removed]",
      "text/plain": [
       "<Figure size 432x288 with 1 Axes>"
      ]
     },
     "metadata": {
      "needs_background": "light"
     },
     "output_type": "display_data"
    },
    {
     "name": "stdout",
     "output_type": "stream",
     "text": [
      "40\n"
     ]
    },
    {
     "data": {
      "image/png": "[encoded data removed]",
      "text/plain": [
       "<Figure size 432x288 with 1 Axes>"
      ]
     },
     "metadata": {
      "needs_background": "light"
     },
     "output_type": "display_data"
    },
    {
     "name": "stdout",
     "output_type": "stream",
     "text": [
      "30\n"
     ]
    },
    {
     "data": {
      "image/png": "[encoded data removed]",
      "text/plain": [
       "<Figure size 432x288 with 1 Axes>"
      ]
     },
     "metadata": {
      "needs_background": "light"
     },
     "output_type": "display_data"
    },
    {
     "name": "stdout",
     "output_type": "stream",
     "text": [
      "32\n"
     ]
    },
    {
     "data": {
      "image/png": "[encoded data removed]",
      "text/plain": [
       "<Figure size 432x288 with 1 Axes>"
      ]
     },
     "metadata": {
      "needs_background": "light"
     },
     "output_type": "display_data"
    }
   ],
   "source": [
    "# show coverage of intensities for each of these\n",
    "# start with the coverage in the overlap region:\n",
    "bins = np.arange(0, 520, 5)\n",
    "scans = list(my_scans)\n",
    "print(scans)\n",
    "\n",
    "for scan in scans:\n",
    "    curr_df = df.loc[(df.source_cam == scan) & (df.target_cam == '1')]\n",
    "\n",
    "    coverage = {}\n",
    "    for i in range(len(bins)-1):\n",
    "        left, right = bins[i], bins[i+1]\n",
    "        count = len(curr_df.loc[(curr_df.target_intensity < right) & (curr_df.target_intensity >= left)])\n",
    "        coverage[i] = count\n",
    "    print(scan)\n",
    "    plt.bar(range(len(coverage.keys())), coverage.values())\n",
    "    plt.show()\n",
    "\n",
    "    "
   ]
  },
  {
   "cell_type": "code",
   "execution_count": 49,
   "metadata": {},
   "outputs": [
    {
     "name": "stdout",
     "output_type": "stream",
     "text": [
      "1993653\n",
      "792869\n"
     ]
    }
   ],
   "source": [
    "# dict_keys(['0', '27', '39', '26', '15', '40', '30', '32'])\n",
    "my_df = df.loc[(df[\"source_cam\"]=='0') | \n",
    "               (df[\"source_cam\"]=='27') | \n",
    "               (df[\"source_cam\"]=='39') | \n",
    "               (df[\"source_cam\"]=='26') | \n",
    "               (df[\"source_cam\"]=='15') | \n",
    "               (df[\"source_cam\"]=='40') | \n",
    "               (df[\"source_cam\"]=='30') | \n",
    "               (df[\"source_cam\"]=='32')]\n",
    "\n",
    "print(len(df))\n",
    "print(len(my_df))"
   ]
  },
  {
   "cell_type": "code",
   "execution_count": 56,
   "metadata": {},
   "outputs": [
    {
     "name": "stdout",
     "output_type": "stream",
     "text": [
      "Training samples pre-resampling: 507437\n",
      "Validation samples pre-resampling: 126859\n",
      "Testing samples pre-resampling: 158573\n"
     ]
    }
   ],
   "source": [
    "# divide into training, validation, and testing\n",
    "my_df.sample(frac=1)\n",
    "\n",
    "sample_count = len(my_df)\n",
    "split_point = sample_count - sample_count//5\n",
    "df_train = my_df.iloc[:split_point, :].reset_index(drop=True)\n",
    "df_test = my_df.iloc[split_point:, :].reset_index(drop=True)\n",
    "\n",
    "val_split_point = len(df_train) - len(df_train)//5\n",
    "df_val = df_train.iloc[val_split_point:, :].reset_index(drop=True)\n",
    "df_train = df_train.iloc[:val_split_point, :].reset_index(drop=True)\n",
    "\n",
    "print(f\"Training samples pre-resampling: {len(df_train)}\")\n",
    "print(f\"Validation samples pre-resampling: {len(df_val)}\")\n",
    "print(f\"Testing samples pre-resampling: {len(df_test)}\")"
   ]
  },
  {
   "cell_type": "code",
   "execution_count": 64,
   "metadata": {},
   "outputs": [
    {
     "name": "stdout",
     "output_type": "stream",
     "text": [
      "['0', '27', '39', '26', '15', '40', '30', '32']\n",
      "626083\n"
     ]
    }
   ],
   "source": [
    "# resample df_train to have balanced target_intensity coverage\n",
    "# show coverage of intensities for each of these\n",
    "# start with the coverage in the overlap region:\n",
    "df_train_resample = df_train.copy()\n",
    "bins = np.arange(0, 520, 5)\n",
    "scans = list(my_scans)\n",
    "print(scans)\n",
    "\n",
    "for scan in scans:\n",
    "    curr_df = df_train.loc[(df_train.source_cam == scan) & (df_train.target_cam == '1')]\n",
    "\n",
    "    coverage = {}\n",
    "    new_coverage = {}\n",
    "    for i in range(len(bins)-1):\n",
    "        left, right = bins[i], bins[i+1]\n",
    "        count = len(curr_df.loc[(curr_df.target_intensity < right) & (curr_df.target_intensity >= left)])\n",
    "        coverage[i] = count\n",
    "        \n",
    "    max_bin = max(coverage, key=coverage.get)\n",
    "    max_value = coverage[max_bin]\n",
    "    \n",
    "    for i in range(len(bins)-1):\n",
    "        if i != max_bin:\n",
    "            left, right = bins[i], bins[i+1]\n",
    "            # select rows with intensity in bins\n",
    "            curr_df_ti = curr_df.loc[(curr_df.target_intensity < right) & (curr_df.target_intensity >= left)]\n",
    "            \n",
    "            # oversample\n",
    "            curr_df_ti = curr_df_ti.sample(n=max_value-coverage[i], replace=True)  # add some noise?\n",
    "            \n",
    "            # append\n",
    "            df_train_resample = df_train_resample.append(curr_df_ti, ignore_index=True)\n",
    "            \n",
    "print(len(df_train))\n",
    "print(len(df_train_resample))"
   ]
  },
  {
   "cell_type": "code",
   "execution_count": 65,
   "metadata": {},
   "outputs": [
    {
     "name": "stdout",
     "output_type": "stream",
     "text": [
      "507437\n"
     ]
    }
   ],
   "source": [
    "print(len(df_train))"
   ]
  },
  {
   "cell_type": "code",
   "execution_count": 66,
   "metadata": {},
   "outputs": [
    {
     "name": "stdout",
     "output_type": "stream",
     "text": [
      "0\n"
     ]
    },
    {
     "data": {
      "image/png": "[encoded data removed]",
      "text/plain": [
       "<Figure size 432x288 with 1 Axes>"
      ]
     },
     "metadata": {
      "needs_background": "light"
     },
     "output_type": "display_data"
    },
    {
     "name": "stdout",
     "output_type": "stream",
     "text": [
      "27\n"
     ]
    },
    {
     "data": {
      "image/png": "[encoded data removed]",
      "text/plain": [
       "<Figure size 432x288 with 1 Axes>"
      ]
     },
     "metadata": {
      "needs_background": "light"
     },
     "output_type": "display_data"
    },
    {
     "name": "stdout",
     "output_type": "stream",
     "text": [
      "39\n"
     ]
    },
    {
     "data": {
      "image/png": "[encoded data removed]",
      "text/plain": [
       "<Figure size 432x288 with 1 Axes>"
      ]
     },
     "metadata": {
      "needs_background": "light"
     },
     "output_type": "display_data"
    },
    {
     "name": "stdout",
     "output_type": "stream",
     "text": [
      "26\n"
     ]
    },
    {
     "data": {
      "image/png": "[encoded data removed]",
      "text/plain": [
       "<Figure size 432x288 with 1 Axes>"
      ]
     },
     "metadata": {
      "needs_background": "light"
     },
     "output_type": "display_data"
    },
    {
     "name": "stdout",
     "output_type": "stream",
     "text": [
      "15\n"
     ]
    },
    {
     "data": {
      "image/png": "[encoded data removed]",
      "text/plain": [
       "<Figure size 432x288 with 1 Axes>"
      ]
     },
     "metadata": {
      "needs_background": "light"
     },
     "output_type": "display_data"
    },
    {
     "name": "stdout",
     "output_type": "stream",
     "text": [
      "40\n"
     ]
    },
    {
     "data": {
      "image/png": "[encoded data removed]",
      "text/plain": [
       "<Figure size 432x288 with 1 Axes>"
      ]
     },
     "metadata": {
      "needs_background": "light"
     },
     "output_type": "display_data"
    },
    {
     "name": "stdout",
     "output_type": "stream",
     "text": [
      "30\n"
     ]
    },
    {
     "data": {
      "image/png": "[encoded data removed]",
      "text/plain": [
       "<Figure size 432x288 with 1 Axes>"
      ]
     },
     "metadata": {
      "needs_background": "light"
     },
     "output_type": "display_data"
    },
    {
     "name": "stdout",
     "output_type": "stream",
     "text": [
      "32\n"
     ]
    },
    {
     "data": {
      "image/png": "[encoded data removed]",
      "text/plain": [
       "<Figure size 432x288 with 1 Axes>"
      ]
     },
     "metadata": {
      "needs_background": "light"
     },
     "output_type": "display_data"
    }
   ],
   "source": [
    "for scan in scans:\n",
    "    curr_df = df_train_resample.loc[(df_train_resample.source_cam == scan) & (df_train_resample.target_cam == '1')]\n",
    "\n",
    "    coverage = {}\n",
    "    for i in range(len(bins)-1):\n",
    "        left, right = bins[i], bins[i+1]\n",
    "        count = len(curr_df.loc[(curr_df.target_intensity < right) & (curr_df.target_intensity >= left)])\n",
    "        coverage[i] = count\n",
    "    \n",
    "    print(scan)\n",
    "    plt.bar(range(len(coverage.keys())), coverage.values())\n",
    "    plt.show()"
   ]
  },
  {
   "cell_type": "code",
   "execution_count": 67,
   "metadata": {},
   "outputs": [],
   "source": [
    "df.to_csv(dataset_path / \"master.csv\")\n",
    "df_test.to_csv(dataset_path / \"test.csv\")\n",
    "df_val.to_csv(dataset_path / \"val.csv\")\n",
    "df_train_resample.to_csv(dataset_path / \"train.csv\")"
   ]
  },
  {
   "cell_type": "code",
   "execution_count": null,
   "metadata": {},
   "outputs": [],
   "source": []
  }
 ],
 "metadata": {
  "kernelspec": {
   "display_name": "Python 3",
   "language": "python",
   "name": "python3"
  },
  "language_info": {
   "codemirror_mode": {
    "name": "ipython",
    "version": 3
   },
   "file_extension": ".py",
   "mimetype": "text/x-python",
   "name": "python",
   "nbconvert_exporter": "python",
   "pygments_lexer": "ipython3",
   "version": "3.7.0"
  }
 },
 "nbformat": 4,
 "nbformat_minor": 4
}
