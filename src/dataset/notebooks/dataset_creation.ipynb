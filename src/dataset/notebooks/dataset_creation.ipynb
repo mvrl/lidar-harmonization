{
 "cells": [
  {
   "cell_type": "code",
   "execution_count": 5,
   "metadata": {},
   "outputs": [],
   "source": [
    "import numpy as np\n",
    "import pandas as pd\n",
    "from pathlib import Path\n",
    "from tqdm import tqdm, trange"
   ]
  },
  {
   "cell_type": "code",
   "execution_count": 11,
   "metadata": {},
   "outputs": [
    {
     "name": "stderr",
     "output_type": "stream",
     "text": [
      "processing: 100%|██████████| 370032/370032 [00:00<00:00, 763773.50it/s]\n"
     ]
    },
    {
     "name": "stdout",
     "output_type": "stream",
     "text": [
      "                                            examples source_cam target_cam  \\\n",
      "0  /home/david/bin/python/intensity/src/dataset/n...          0          1   \n",
      "1  /home/david/bin/python/intensity/src/dataset/n...          0          1   \n",
      "2  /home/david/bin/python/intensity/src/dataset/n...         20          1   \n",
      "3  /home/david/bin/python/intensity/src/dataset/n...          4          1   \n",
      "4  /home/david/bin/python/intensity/src/dataset/n...          4          1   \n",
      "\n",
      "  target_intensity  \n",
      "0              279  \n",
      "1              504  \n",
      "2              186  \n",
      "3              141  \n",
      "4              151  \n"
     ]
    }
   ],
   "source": [
    "# Create a dataset of all examples\n",
    "\n",
    "dataset_path = Path(\"../150_35M\")\n",
    "examples = [f.absolute() for f in (dataset_path / \"neighborhoods\").glob(\"*.npy\")]\n",
    "intensities = [None] * len(examples)\n",
    "source_cam = [None] * len(examples)\n",
    "target_cam = [None] * len(examples)\n",
    "\n",
    "for i in trange(len(examples), desc=\"processing\"):\n",
    "    filename = examples[i].stem\n",
    "    source_cam[i] = filename.split(\"_\")[0]\n",
    "    target_cam[i] = filename.split(\"_\")[1]\n",
    "    intensities[i] = filename.split(\"_\")[2]\n",
    "    \n",
    "df = pd.DataFrame()\n",
    "df['examples'] = examples\n",
    "df['source_cam'] = source_cam\n",
    "df['target_cam'] = target_cam\n",
    "df['target_intensity'] = intensities\n",
    "df.to_csv(dataset_path / \"master.csv\")\n",
    "\n",
    "print(df.head())\n",
    "                                "
   ]
  },
  {
   "cell_type": "code",
   "execution_count": null,
   "metadata": {},
   "outputs": [],
   "source": []
  }
 ],
 "metadata": {
  "kernelspec": {
   "display_name": "Python 3",
   "language": "python",
   "name": "python3"
  },
  "language_info": {
   "codemirror_mode": {
    "name": "ipython",
    "version": 3
   },
   "file_extension": ".py",
   "mimetype": "text/x-python",
   "name": "python",
   "nbconvert_exporter": "python",
   "pygments_lexer": "ipython3",
   "version": "3.7.0"
  }
 },
 "nbformat": 4,
 "nbformat_minor": 4
}
