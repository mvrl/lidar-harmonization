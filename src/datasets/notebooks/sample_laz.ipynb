{
 "cells": [
  {
   "cell_type": "markdown",
   "metadata": {},
   "source": [
    "# Histogram Sampling of Airborne Lidar Overlap Regions\n",
    "\n",
    "Idea: \n",
    "1. Open some number of potentially overlapping scans at the same time and coarsely sample them. \n",
    "2. Find points that overlap with another flight. \n",
    "3. Add these points to a 3D histogram to denote overlap regions. \n",
    "4. Collect all points in bins with points that have many neighbors"
   ]
  },
  {
   "cell_type": "code",
   "execution_count": null,
   "metadata": {},
   "outputs": [],
   "source": [
    "import time\n",
    "import numpy as np\n",
    "from pathos.multiprocessing import ProcessingPool as Pool\n",
    "from functools import partial\n",
    "import matplotlib.pyplot as plt\n",
    "import matplotlib.cm as cm\n",
    "import matplotlib.colors as colors\n",
    "from mpl_toolkits.axes_grid1.inset_locator import zoomed_inset_axes\n",
    "from mpl_toolkits.axes_grid1.inset_locator import mark_inset\n",
    "import pandas as pd\n",
    "from pathlib import Path\n",
    "from pptk import kdtree\n",
    "from tqdm import tqdm, trange"
   ]
  },
  {
   "cell_type": "code",
   "execution_count": null,
   "metadata": {},
   "outputs": [],
   "source": [
    "# Some options to play with\n",
    "sample_overlap_size = int(10e3)\n",
    "pc1_path = '1'\n",
    "pc2_path = '15' \n",
    "\n",
    "# Some examples of various types of overlap\n",
    "# 1 and 10 - 1 is bisected by 10\n",
    "# 1 and 37 - 1 and 37 are parallel with small overlap\n",
    "# 1 and 3  - 1 and 3 are parallel with no overlap\n"
   ]
  },
  {
   "cell_type": "code",
   "execution_count": null,
   "metadata": {},
   "outputs": [],
   "source": [
    "# Get our point clouds ready to load in \n",
    "pc_dir = Path(\"../dublin/data/npy/\")\n",
    "pc_paths = {f.stem:f.absolute() for f in pc_dir.glob(\"*.npy\")}\n",
    "print(pc_paths.keys())\n",
    "# pc = np.load(pc_paths['num'])"
   ]
  },
  {
   "cell_type": "code",
   "execution_count": null,
   "metadata": {},
   "outputs": [],
   "source": [
    "# Initial visualization of our point clouds to visually check for overlap\n",
    "pc1 = np.load(pc_paths[pc1_path])\n",
    "pc2 = np.load(pc_paths[pc2_path])\n",
    "\n",
    "pc1_vis_s = pc1[np.random.choice(len(pc1), size=3000, replace=False)]\n",
    "pc2_vis_s = pc2[np.random.choice(len(pc2), size=3000, replace=False)]\n",
    "\n",
    "plt.scatter(pc1_vis_s[:, 0], pc1_vis_s[:, 1], s=0.3, label=f\"scan {pc1_path}\")\n",
    "plt.scatter(pc2_vis_s[:, 0], pc2_vis_s[:, 1], s=0.3, label=f\"scan {pc2_path}\")\n",
    "plt.axis('off')\n",
    "plt.legend()\n",
    "plt.show()"
   ]
  },
  {
   "cell_type": "code",
   "execution_count": null,
   "metadata": {
    "code_folding": []
   },
   "outputs": [],
   "source": [
    "def get_hist_overlap(pc1, pc2, sample_overlap_size=10000, hist_bin_length=10):\n",
    "    # Params:\n",
    "    #     pc1: point cloud 1 (np array with shape ([m, k1]))\n",
    "    #     pc2: point cloud 2 (np array with shape ([n, k2]))\n",
    "    #\n",
    "    # k1 and k2 must contain at least x and y coordinates. \n",
    "    \n",
    "    #\n",
    "    # Returns:\n",
    "    #     \n",
    "    \n",
    "    # define a data range\n",
    "    pc_combined = np.concatenate((pc1, pc2))\n",
    "    data_range = np.array(\n",
    "        [[pc_combined[:, 0].min(), pc_combined[:, 0].max()],\n",
    "        [pc_combined[:, 1].min(), pc_combined[:, 1].max()],\n",
    "        [pc_combined[:, 2].min(), pc_combined[:, 2].max()]])\n",
    "    \n",
    "    bin_counts = [int((f[1]-f[0])/hist_bin_length) for f in data_range]\n",
    "\n",
    "    del pc_combined  # save some mem\n",
    "    \n",
    "    # define bins based on data_range:\n",
    "    x_bins = np.linspace(data_range[0][0], data_range[0][1], num=bin_counts[0])\n",
    "    y_bins = np.linspace(data_range[1][0], data_range[1][1], num=bin_counts[1])\n",
    "    z_bins = np.linspace(data_range[2][0], data_range[2][1], num=bin_counts[2])\n",
    "    \n",
    "    # Collect some number of points as overlap between these point clouds\n",
    "    # build kd tree so we can search for points in pc2\n",
    "    kd = kdtree._build(pc2[:, :3])\n",
    "\n",
    "    # collect a sample of points in pc1 to query in pc2\n",
    "    sample_overlap = np.random.choice(len(pc1), size=sample_overlap_size)\n",
    "    pc1_sample = pc1[sample_overlap]\n",
    "\n",
    "    # query pc1 sample in pc2. note that we want lots of nearby neighbors\n",
    "    query = kdtree._query(kd, pc1_sample[:, :3], k=150, dmax=1)\n",
    "    \n",
    "    # Count the number of neighbors found at each query point\n",
    "    counts = np.zeros((len(query), 1))\n",
    "    for i in range(len(query)):\n",
    "        counts[i][0] = len(query[i])\n",
    "\n",
    "    # Append this to our sample\n",
    "    pc1_sample_with_counts = np.concatenate((pc1_sample[:, :3], counts), axis=1)\n",
    "\n",
    "    # this needs to be transformed such that the points (X, Y) occur in the\n",
    "    # array `count` times. This will make histogram creation easier.\n",
    "    rows = []\n",
    "    for i in range(len(pc1_sample_with_counts)):\n",
    "        row = pc1_sample_with_counts[i, :3]\n",
    "        row = np.expand_dims(row, 0)\n",
    "        if pc1_sample_with_counts[i, 2]:\n",
    "            duplication = np.repeat(row, pc1_sample_with_counts[i, 3], axis=0)\n",
    "            rows.append(duplication)\n",
    "    \n",
    "    pc1_sample_f = np.concatenate(rows, axis=0)\n",
    "    \n",
    "    # build histogram over data\n",
    "    hist, edges = np.histogramdd(\n",
    "        pc1_sample_f[:, :3], \n",
    "        bins=[x_bins, y_bins, z_bins])\n",
    "\n",
    "    return (hist, edges), pc1_sample_f"
   ]
  },
  {
   "cell_type": "code",
   "execution_count": null,
   "metadata": {
    "code_folding": []
   },
   "outputs": [],
   "source": [
    "def visualize_hist(pc1, pc2, overlap_sample, hist_bin_length):\n",
    "    \n",
    "    \n",
    "    # definitions for the axes\n",
    "    left, width = 0.1, 0.65\n",
    "    bottom, height = 0.1, 0.65\n",
    "    spacing = 0.005\n",
    "    \n",
    "    pc_combined = np.concatenate((pc1, pc2))\n",
    "    data_range = np.array(\n",
    "        [[pc_combined[:, 0].min(), pc_combined[:, 0].max()],\n",
    "        [pc_combined[:, 1].min(), pc_combined[:, 1].max()],\n",
    "        [pc_combined[:, 2].min(), pc_combined[:, 2].max()]])\n",
    "    \n",
    "    bin_counts = [int((f[1]-f[0])/hist_bin_length) for f in data_range]\n",
    "\n",
    "    del pc_combined  # save some mem\n",
    "    \n",
    "    # define bins based on data_range:\n",
    "    x_bins = np.linspace(data_range[0][0], data_range[0][1], num=bin_counts[0])\n",
    "    y_bins = np.linspace(data_range[1][0], data_range[1][1], num=bin_counts[1])\n",
    "    z_bins = np.linspace(data_range[2][0], data_range[2][1], num=bin_counts[2])\n",
    "    fig, ax = plt.subplots(figsize=(17, 12))\n",
    "    \n",
    "    vs1 = np.random.choice(len(pc1), size=5000, replace=False)\n",
    "    vs2 = np.random.choice(len(pc2), size=5000, replace=False)\n",
    "    ax.scatter(pc1[vs1, 0], pc1[vs1, 1], s=10, label=f\"scan 1\")\n",
    "    ax.scatter(pc2[vs2, 0], pc2[vs2, 1], s=10, label=f\"scan 2\")\n",
    "    ax.axis('off')\n",
    "    ax.set_title(\"Histogram of Overlap Region\")\n",
    "\n",
    "    hist, xedges, yedges, qm = ax.hist2d(\n",
    "        overlap_sample[:, 0], \n",
    "        overlap_sample[:, 1], \n",
    "        bins=[x_bins, y_bins],\n",
    "        # range=data_range,\n",
    "        # density=True,\n",
    "        norm=colors.LogNorm())\n",
    "\n",
    "\n",
    "    # ax.legend()\n",
    "    plt.show()"
   ]
  },
  {
   "cell_type": "code",
   "execution_count": null,
   "metadata": {},
   "outputs": [],
   "source": [
    "%%time\n",
    "# Visualize this data\n",
    "# bin length of 10 seems reasonable, but could maybe go slightly higher\n",
    "hist_info, overlap_sample = get_hist_overlap(pc1, pc2, hist_bin_length=25)\n",
    "visualize_hist(pc1, pc2, overlap_sample, 25)\n",
    "\n"
   ]
  },
  {
   "cell_type": "code",
   "execution_count": null,
   "metadata": {
    "code_folding": [
     0
    ]
   },
   "outputs": [],
   "source": [
    "def get_overlap_points(pc, hist_info, c):\n",
    "    # Pull points out of `pc` from overlap information to be used in dataset\n",
    "    # creation.\n",
    "    #   `hist_info`: tuple (hist, bins) \n",
    "    #   `c` : the count of required overlap points to exist in a bin for it to\n",
    "    #       to count as being \"in the overlap.\" Higher values of c grab points \n",
    "    #       more likely to be in the overlap.\n",
    "\n",
    "    def get_indices(e):\n",
    "        x1, x2, y1, y2, z1, z2 = e\n",
    "\n",
    "        # this is very slow :/\n",
    "        new_indices = ((x1 <= pc[:, 0]) & (pc[:, 0] < x2) &\n",
    "                       (y1 <= pc[:, 1]) & (pc[:, 1] < y2) &\n",
    "                       (z1 <= pc[:, 2]) & (pc[:, 2] < z2))\n",
    "\n",
    "        return new_indices\n",
    "\n",
    "    indices = np.full(pc.shape[0], False, dtype=bool)\n",
    "    process_list = []\n",
    "    hist, (xedges, yedges, zedges) = hist_info\n",
    "    \n",
    "    h_iter = np.array(np.meshgrid(\n",
    "        np.arange(hist.shape[0]), \n",
    "        np.arange(hist.shape[1]),\n",
    "        np.arange(hist.shape[2])\n",
    "    )).T.reshape(-1, 3)\n",
    "    \n",
    "    for t in tqdm(h_iter, desc=\"building process list\"):\n",
    "        i, j, k = t\n",
    "        if hist[i][j][k] > c:\n",
    "            x1, x2 = xedges[i], xedges[i+1]\n",
    "            y1, y2 = yedges[j], yedges[j+1]\n",
    "            z1, z2 = zedges[k], zedges[k+1]\n",
    "            process_list.append((x1, x2, y1, y2, z1, z2))\n",
    "            \n",
    "    process_list = np.array(process_list)\n",
    "    \n",
    "    for t in tqdm(process_list, desc=\"compiling indices\"):\n",
    "        indices = indices | get_indices(t)\n",
    "        \n",
    "    return indices"
   ]
  },
  {
   "cell_type": "code",
   "execution_count": null,
   "metadata": {},
   "outputs": [],
   "source": [
    "%%time\n",
    "overlap_idx = get_overlap_points(pc1, hist_info, 1)\n",
    "pc_overlap = pc1[overlap_idx]\n",
    "print(f\"Filtered out {(100*(pc1.shape[0]-pc_overlap.shape[0])/(pc1.shape[0])):.2f}% of points\")"
   ]
  },
  {
   "cell_type": "code",
   "execution_count": null,
   "metadata": {},
   "outputs": [],
   "source": [
    "print(overlap_idx.shape)"
   ]
  },
  {
   "cell_type": "code",
   "execution_count": null,
   "metadata": {},
   "outputs": [],
   "source": [
    "print(pc_overlap.shape)\n",
    "fig, ax = plt.subplots(figsize=(17, 12))\n",
    "\n",
    "ax.scatter(pc1_vis_s[:, 0], pc1_vis_s[:, 1], s=10)\n",
    "ax.scatter(pc2_vis_s[:, 0], pc2_vis_s[:, 1], s=10)\n",
    "ax.scatter(pc_overlap[:, 0], pc_overlap[:, 1], s=10, c='tab:red')\n",
    "\n",
    "plt.show()"
   ]
  },
  {
   "cell_type": "code",
   "execution_count": null,
   "metadata": {},
   "outputs": [],
   "source": [
    "%%time\n",
    "# Non-overlap region of source scan?\n",
    "overlap_idx = get_overlap_points(pc2, hist_info, 1)"
   ]
  },
  {
   "cell_type": "code",
   "execution_count": null,
   "metadata": {},
   "outputs": [],
   "source": [
    "print(overlap_idx.shape)\n",
    "print(pc2.shape)\n",
    "\n",
    "pc_overlap = pc2[overlap_idx]\n",
    "print(pc_overlap.shape)\n",
    "\n",
    "fig, ax = plt.subplots(figsize=(17, 12))\n",
    "\n",
    "ax.scatter(pc1_vis_s[:, 0], pc1_vis_s[:, 1], s=10)\n",
    "ax.scatter(pc2_vis_s[:, 0], pc2_vis_s[:, 1], s=10)\n",
    "ax.scatter(pc_overlap[:, 0], pc_overlap[:, 1], s=3, c='tab:red')\n",
    "\n",
    "plt.show()"
   ]
  },
  {
   "cell_type": "code",
   "execution_count": null,
   "metadata": {},
   "outputs": [],
   "source": [
    "pc2_no_overlap = pc2[~overlap_idx]\n",
    "print(overlap_idx.dtype)\n",
    "print(overlap_idx.shape)\n",
    "print(overlap_idx[overlap_idx>0].shape)\n",
    "print(pc2_no_overlap.shape)\n",
    "print(pc2.shape)\n",
    "fig, ax = plt.subplots(figsize=(17, 12))\n",
    "\n",
    "ax.scatter(pc1_vis_s[:, 0], pc1_vis_s[:, 1], s=10)\n",
    "ax.scatter(pc2_vis_s[:, 0], pc2_vis_s[:, 1], s=10)\n",
    "ax.scatter(pc2_no_overlap[:, 0], pc2_no_overlap[:, 1], s=0.00001, c='tab:red')\n",
    "\n",
    "plt.show()"
   ]
  },
  {
   "cell_type": "code",
   "execution_count": null,
   "metadata": {},
   "outputs": [],
   "source": []
  }
 ],
 "metadata": {
  "kernelspec": {
   "display_name": "Python 3",
   "language": "python",
   "name": "python3"
  },
  "language_info": {
   "codemirror_mode": {
    "name": "ipython",
    "version": 3
   },
   "file_extension": ".py",
   "mimetype": "text/x-python",
   "name": "python",
   "nbconvert_exporter": "python",
   "pygments_lexer": "ipython3",
   "version": "3.7.0"
  }
 },
 "nbformat": 4,
 "nbformat_minor": 4
}
