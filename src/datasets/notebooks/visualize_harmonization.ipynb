{
 "cells": [
  {
   "cell_type": "code",
   "execution_count": null,
   "metadata": {},
   "outputs": [],
   "source": [
    "from pathlib import Path\n",
    "import matplotlib\n",
    "import matplotlib.pyplot as plt\n",
    "import numpy as np\n",
    "from src.dataset.tools.checkerboard import checkerboard\n",
    "import pprint\n",
    "\n",
    "# this is pretty old\n",
    "pp = pprint.PrettyPrinter(indent=4)\n",
    "\n",
    "project_root = Path(\".\").absolute().parents[1]\n",
    "print(project_root)\n",
    "\n",
    "base_tile_paths = {\n",
    "    \"gt\": project_root / \"dataset\" / \"synth_crptn\"/ \"big_tile_no_overlap\" / \"gt.txt.gz\",\n",
    "    \"alt\": project_root / \"dataset\" / \"synth_crptn\" / \"big_tile_no_overlap\" / \"alt.txt.gz\"\n",
    "}\n",
    "\n",
    "shift_tile_paths = {\n",
    "    \"gt\": project_root / \"dataset\" / \"synth_crptn+shift\"/ \"big_tile_no_overlap\" / \"gt.txt.gz\",\n",
    "    \"alt\": project_root / \"dataset\" / \"synth_crptn+shift\" / \"big_tile_no_overlap\" / \"alt.txt.gz\"\n",
    "}\n",
    "\n",
    "# for dark-mode: `jt -t monokai -f fira -fs 10 -nf fira -nfs 11 -N -kl -cursw 2 -cursc r -cellw 95% -T`\n",
    "# for default: `jt`\n",
    "COLOR = 'white'\n",
    "matplotlib.rcParams['text.color'] = COLOR\n",
    "matplotlib.rcParams['axes.labelcolor'] = COLOR\n",
    "matplotlib.rcParams['xtick.color'] = COLOR\n",
    "matplotlib.rcParams['ytick.color'] = COLOR\n",
    "\n",
    "# more readable font size?\n",
    "matplotlib.rcParams.update({'font.size': 18})\n",
    "\n",
    "# plot size\n",
    "matplotlib.rcParams['figure.figsize'] = [32, 8]"
   ]
  },
  {
   "cell_type": "code",
   "execution_count": null,
   "metadata": {
    "code_folding": [
     0,
     54,
     62,
     118,
     123
    ]
   },
   "outputs": [],
   "source": [
    "def make_single_plot(tile, name=\"\"):\n",
    "    fig, ax = plt.subplots(1)\n",
    "    \n",
    "    ax.scatter(tile[:, 0], tile[:, 1], c=tile[:, 4], s=1, vmin=0, vmax=512)   # fixed tiles have gt and fix channels\n",
    "    ax.axis(\"off\")\n",
    "    plt.savefig(name)\n",
    "    \n",
    "def get_dl_tile_paths(n_size):\n",
    "    paths = {\n",
    "       \"Deep Learning Harmonization\": project_root / \"dataset\" / \"synth_crptn\" / \"big_tile_no_overlap\" / f\"fixed_dl_{n_size}.txt.gz\", \n",
    "       \"Deep Learning Harmonization (Global Shift)\": project_root / \"dataset\" / \"synth_crptn+shift\" / \"big_tile_no_overlap\" / f\"fixed_dl_{n_size}.txt.gz\", \n",
    "\n",
    "    }\n",
    "    return paths\n",
    "\n",
    "def get_li_paths(n_size, interp_method, harmonization_method):\n",
    "    paths = {\n",
    "        \"Linear Interpolation + Least Squares Harmonization\": project_root / \"dataset\" / \"synth_crptn\" /\"big_tile_no_overlap\" / f\"fixed_li_{n_size}_{interp_method}_{harmonization_method}.txt.gz\",\n",
    "        \"Linear Interpolation + Least Squares Harmonization (Global Shift)\": project_root / \"dataset\" / \"synth_crptn+shift\" / \"big_tile_no_overlap\" / f\"fixed_li_{n_size}_{interp_method}_{harmonization_method}.txt.gz\",\n",
    "        }\n",
    "    return paths\n",
    "\n",
    "def make_plots(fixed_tile_paths, save=True):\n",
    "    for key, path in fixed_tile_paths.items(): \n",
    "            fig, ax = plt.subplots(1, 4)\n",
    "            fig.suptitle(f\"{key}\")\n",
    "            \n",
    "            if \"Global Shift\" in key:\n",
    "                gt_tile, alt_tile = np.loadtxt(shift_tile_paths['gt']), np.loadtxt(shift_tile_paths['alt'])\n",
    "            else:\n",
    "                gt_tile, alt_tile = np.loadtxt(base_tile_paths['gt']), np.loadtxt(base_tile_paths['alt'])\n",
    "                                                                                            \n",
    "            # Load in fix first\n",
    "            tile = np.loadtxt(path)\n",
    "\n",
    "            # clip below 0/1, put into same range as other tiles\n",
    "            tile[:, 4] = np.clip(tile[:, 4], 0, 1)\n",
    "            tile[:, 3] *= 512; tile[:, 4] *= 512\n",
    "\n",
    "            mae = np.mean(np.abs((tile[:, 3] - tile[:, 4]))) / 512\n",
    "            ax.flat[1].scatter(tile[:, 0], tile[:, 1], c=tile[:, 4], s=1, vmin=0, vmax=512)   # fixed tiles have gt and fix channels\n",
    "            ax.flat[1].set_title(f\"fixed (MAE: {mae:.5f})\")\n",
    "            ax.flat[1].axis(\"off\")\n",
    "            \n",
    "            if \"Global Shift\" in key:\n",
    "                tile = np.loadtxt(shift_tile_paths['gt']), tile\n",
    "            else:\n",
    "                tile = np.loadtxt(base_tile_paths['gt']), tile\n",
    "                                                                                  \n",
    "            cb_t1, cb_t2 = checkerboard(tile[0], tile[1])\n",
    "            ax.flat[3].scatter(cb_t1[:, 0], cb_t1[:, 1], c=cb_t1[:, 3], s=1, vmin=0, vmax=512)\n",
    "            ax.flat[3].scatter(cb_t2[:, 0], cb_t2[:, 1], c=cb_t2[:, 4], s=1, vmin=0, vmax=512)\n",
    "            ax.flat[3].set_title(\"checkerboard fixed vs gt\")\n",
    "            ax.flat[3].axis(\"off\")\n",
    "\n",
    "            ax.flat[2].scatter(tile[0][:, 0], tile[0][:, 1])\n",
    "            ax.flat[2].scatter(tile[0][:, 0], tile[0][:, 1], c=tile[0][:, 3], s=1, vmin=0, vmax=512)\n",
    "            ax.flat[2].set_title(\"ground truth\")\n",
    "            ax.flat[2].axis(\"off\")\n",
    "            \n",
    "            if \"Global Shift\" in key:\n",
    "                tile = np.loadtxt(shift_tile_paths['alt'])\n",
    "            else:\n",
    "                tile = np.loadtxt(base_tile_paths['alt'])\n",
    "\n",
    "            ax.flat[0].scatter(tile[:, 0], tile[:, 1], c=tile[:, 3], s=1, vmin=0, vmax=512)\n",
    "            ax.flat[0].set_title(\"synthetic corruption\")\n",
    "            ax.flat[0].axis(\"off\")\n",
    "            plt.show()\n",
    "\n",
    "# Custom paths\n",
    "hm_tile_paths = {\n",
    "    \"Histogram Matching\": project_root / \"dataset\" / \"synth_crptn\" / \"big_tile_no_overlap\" / \"fixed_hm.txt.gz\",\n",
    "    \"Histogram Matching (Global Shift)\": project_root / \"dataset\" / \"synth_crptn+shift\" / \"big_tile_no_overlap\" / \"fixed_hm.txt.gz\"\n",
    "}\n",
    "\n",
    "cheat_tile_path = {\n",
    "    \"Deep Learning Harmonization (interpolation target as input feature)\": project_root / \"dataset\" / \"synth_crptn\" / \"big_tile_no_overlap\" / \"fixed_dl_0.txt.gz\",\n",
    "    \"Deep Learning Harmonization (interpolation target as input feature) (Global Shift)\" : project_root / \"dataset\" / \"synth_crptn\" / \"big_tile_no_overlap\" / \"fixed_dl_0.txt.gz\"\n",
    "}\n"
   ]
  },
  {
   "cell_type": "markdown",
   "metadata": {},
   "source": [
    "## Dataset Information\n",
    "Below is the difference between the global shift and default ground truth evaluation tiles:"
   ]
  },
  {
   "cell_type": "code",
   "execution_count": null,
   "metadata": {},
   "outputs": [],
   "source": [
    "mae = np.mean(\n",
    "    np.abs(\n",
    "        np.loadtxt(base_tile_paths['gt'])[:, 3]/512 - \n",
    "        np.loadtxt(shift_tile_paths['alt'])[:, 3]/512))\n",
    "print(mae)"
   ]
  },
  {
   "cell_type": "markdown",
   "metadata": {},
   "source": [
    "## Special Cases"
   ]
  },
  {
   "cell_type": "markdown",
   "metadata": {},
   "source": [
    "### Histogram Matching\n",
    "Histogram matching features excellent performance when the scan regions are over areas with similar intensity distributions. However, as scan region increases, it is inevitable that the distributions will no longer line up. Below, histogram matching's performance is measured in two test cases: one test case where the intensity distribution is relatively uniform across all scans, and another where a global shift is applied to the eastern half of the scan area. As can be seen, the performance is significantly worse in this case. "
   ]
  },
  {
   "cell_type": "code",
   "execution_count": null,
   "metadata": {},
   "outputs": [],
   "source": [
    "make_plots(hm_tile_paths)"
   ]
  },
  {
   "cell_type": "markdown",
   "metadata": {},
   "source": [
    "### Pointnet Interpolation and MLP Harmonization with the interpolation target as an input feature\n",
    "The deep learning method proposed in this project examines overlapping lidar scans. In an ideal case, the points in this overlap region would be perfectly aligned (correspondence), and a mapping for intensity could be derived directly. However, this is not usually the case.\n",
    "\n",
    "Given two scans, source and target, with some overlapping region, correspondence between points can be achieved by interpolation. Given a point in the target scan, $X_t$ (with intensity $I_t$), a neighborhood $N_s$ in the source scan can be obtained by finding the closest points to $X_t$. \n",
    "\n",
    "In this project, each source scan is given a unique (monotonically increasing) transformation to simulate differing sensor/camera configurations. This transformation is applied to $N_s$ as well as the interpolated intensity target, yielding $I_s$. $I_t$ then becomes the harmonization target, and $I_s$ becomes the interpolation target for the transformed neighborhood. \n",
    "\n",
    "Normally, $I_s$ is stripped from each training example (as this would not exist in a real-world test case). If $I_s$ is supplied at train time, then there is never a need for the network to perform interpolation, and harmonization becomes the only task. Below is the result from this test case, which yields an exceedingly small error rate. "
   ]
  },
  {
   "cell_type": "code",
   "execution_count": null,
   "metadata": {},
   "outputs": [],
   "source": [
    "make_plots(get_dl_tile_paths(0))"
   ]
  },
  {
   "cell_type": "markdown",
   "metadata": {},
   "source": [
    "### Pointnet Interpolation, N = 5"
   ]
  },
  {
   "cell_type": "code",
   "execution_count": null,
   "metadata": {},
   "outputs": [],
   "source": [
    "make_plots(get_dl_tile_paths(5))"
   ]
  },
  {
   "cell_type": "markdown",
   "metadata": {},
   "source": [
    "## N = 20"
   ]
  },
  {
   "cell_type": "code",
   "execution_count": null,
   "metadata": {},
   "outputs": [],
   "source": [
    "make_plots(get_dl_tile_paths(20))"
   ]
  },
  {
   "cell_type": "markdown",
   "metadata": {},
   "source": [
    "## N = 50"
   ]
  },
  {
   "cell_type": "code",
   "execution_count": null,
   "metadata": {},
   "outputs": [],
   "source": [
    "make_plots(get_dl_tile_paths(50))"
   ]
  }
 ],
 "metadata": {
  "kernelspec": {
   "display_name": "Python 3",
   "language": "python",
   "name": "python3"
  },
  "language_info": {
   "codemirror_mode": {
    "name": "ipython",
    "version": 3
   },
   "file_extension": ".py",
   "mimetype": "text/x-python",
   "name": "python",
   "nbconvert_exporter": "python",
   "pygments_lexer": "ipython3",
   "version": "3.7.0"
  }
 },
 "nbformat": 4,
 "nbformat_minor": 4
}
