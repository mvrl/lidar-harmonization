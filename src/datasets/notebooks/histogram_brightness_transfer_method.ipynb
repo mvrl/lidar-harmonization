{
 "cells": [
  {
   "cell_type": "markdown",
   "metadata": {},
   "source": [
    "# Histogram Matching\n",
    "In this notebook, we want to transform one (target) distribution to look like another (reference) distribution. "
   ]
  },
  {
   "cell_type": "code",
   "execution_count": null,
   "metadata": {},
   "outputs": [],
   "source": [
    "import numpy as np\n",
    "import matplotlib.pyplot as plt"
   ]
  },
  {
   "cell_type": "code",
   "execution_count": null,
   "metadata": {},
   "outputs": [],
   "source": [
    "# Define some distributions\n",
    "d = [\n",
    "    np.random.normal(loc=8, scale=1, size=10000),\n",
    "    np.random.normal(loc=5, scale=2, size=10000)\n",
    "    # np.random.normal(loc=0, scale=4, size=10000)\n",
    "    ]\n",
    "\n",
    "# global mins and maxes\n",
    "g = np.concatenate(d)\n",
    "print(g.min(), g.max())\n",
    "\n",
    "# bins\n",
    "bin_range = [g.min(), g.max()]\n",
    "bin_num = int((g.max()-g.min())/.5)\n",
    "\n",
    "# plot colors\n",
    "line_colors = [\"xkcd:red\", \"xkcd:blue\", \"xkcd:green\"]\n",
    "pdf_colors = [(1, 0, 0, .5), (0, 0, 1, .5), (0, 1, 0, .4)]\n",
    "\n",
    "line_colors = line_colors[:len(d)]\n",
    "pdf_colors = pdf_colors[:len(d)]"
   ]
  },
  {
   "cell_type": "code",
   "execution_count": null,
   "metadata": {},
   "outputs": [],
   "source": [
    "# Show histograms with CDF\n",
    "fig, ax = plt.subplots(1, 1, sharex=True, figsize=(20,10))\n",
    "histograms = []\n",
    "for i, data in enumerate(zip(d, pdf_colors, line_colors)):\n",
    "    d_i, pdf_color, line_color = data\n",
    "    \n",
    "    # plot pdf\n",
    "    hist, bin_edges, _ = ax.hist(d_i, bins=bin_num, range=bin_range, density=True, label=f\"d{i}\", fc=pdf_color)\n",
    "    hist = hist/sum(hist)  # use pdf\n",
    "    histograms.append((hist, bin_edges))\n",
    "    \n",
    "    # calculate cdf \n",
    "    cdf = np.cumsum(hist)  \n",
    "\n",
    "    # plot cdf\n",
    "    width = np.diff(bin_edges)\n",
    "    ax.plot((np.arange(len(cdf))*width)+bin_edges[0], cdf, line_color, label=f\"cdf{i}\")\n",
    "    \n",
    "\n",
    "ax.legend(loc='lower right')\n",
    "ax.set_title(\"PDFs and CDFs\")\n",
    "plt.show()\n"
   ]
  },
  {
   "cell_type": "markdown",
   "metadata": {},
   "source": [
    "We can compute the histogram matching transformation by utilizing the CDFs of the target and reference distribution. \n",
    "\n",
    "![alt text](http://paulbourke.net/miscellaneous/equalisation/diagram1.jpg)\n",
    "\n",
    "To match the histograms, we first need to find x values $x_i$ and $x_j$ from CDFs G and H such that $G(x_i) = H(x_j)$. We then want to define a mapping from one CDF to the other for any x."
   ]
  },
  {
   "cell_type": "code",
   "execution_count": null,
   "metadata": {
    "scrolled": true
   },
   "outputs": [],
   "source": [
    "def histogram_match(target, reference):\n",
    "    # # # \n",
    "    #\n",
    "    # Params: \n",
    "    #    target: distribution as np array\n",
    "    #    reference: Pdistribution as np array\n",
    "    #\n",
    "    # Output: \n",
    "    #    \"matched\" target distribution to reference distribution\n",
    "    #\n",
    "    # # #\n",
    "    \n",
    "    # global mins and maxes\n",
    "    g = np.concatenate((target, reference))\n",
    "\n",
    "    # bins\n",
    "    bin_range = [g.min(), g.max()]\n",
    "    bin_num = int((g.max()-g.min())/.5)\n",
    "    \n",
    "    # Convert distributions to histograms\n",
    "    target_hist, target_be = np.histogram(target, bins=bin_num, range=bin_range, density=True)\n",
    "    reference_hist, reference_be = np.histogram(reference, bins=bin_num, range=bin_range, density=True)\n",
    "    \n",
    "    # PDF\n",
    "    target_hist = target_hist/sum(target_hist)\n",
    "    reference_hist = reference_hist/sum(reference_hist)\n",
    "    \n",
    "    # choose some arbitrary y values (y range: [0, 1])\n",
    "    y_vals = np.random.uniform(size=10000)\n",
    "\n",
    "    # sort these as monotonically increasing\n",
    "    y_vals.sort()\n",
    "    \n",
    "    # interpolate x value pairs from the CDFs\n",
    "    x_reference = np.interp(\n",
    "        y_vals,\n",
    "        np.hstack((np.zeros(1), np.cumsum(reference_hist))),\n",
    "        reference_be)\n",
    "    \n",
    "    x_target = np.interp(\n",
    "        y_vals,\n",
    "        np.hstack((np.zeros(1), np.cumsum(target_hist))),\n",
    "        target_be)\n",
    "    \n",
    "    # We now have three vectors denoting y-x0-x1 groups. We want to create a mapping\n",
    "    # that defines the relationship for x0 -> x1 for any x0. \n",
    "    m_vals = np.interp(\n",
    "        np.linspace(g.min(), g.max(), 10000),\n",
    "        x_target,\n",
    "        x_reference)\n",
    "    \n",
    "    # Interpolate values over the combined distributions\n",
    "    x = np.arange(g.min(), g.max(), (g.max()-g.min())/10000)\n",
    "\n",
    "    m = np.interp(target, x, m_vals)\n",
    "    \n",
    "    return m\n"
   ]
  },
  {
   "cell_type": "code",
   "execution_count": null,
   "metadata": {},
   "outputs": [],
   "source": [
    "# Put all of this together\n",
    "\n",
    "fig, (ax) = plt.subplots(1, figsize=(20,10))\n",
    "\n",
    "m = histogram_match(d[0], d[1])\n",
    "\n",
    "# Overwrite the target distribution with the matched distribution\n",
    "d_new = (m, d[1])\n",
    "\n",
    "for i, data in enumerate(zip(d_new, pdf_colors, line_colors)):\n",
    "    d_i, pdf_color, line_color = data\n",
    "    \n",
    "    # plot pdf\n",
    "    hist, bin_edges, _ = ax.hist(d_i, bins=bin_num, range=bin_range, density=True, label=f\"d{i}\", fc=pdf_color)\n",
    "    hist = hist/sum(hist)  # use pdf\n",
    "    \n",
    "    # calculate cdf \n",
    "    cdf = np.cumsum(hist)  \n",
    "\n",
    "    # plot cdf\n",
    "    width = np.diff(bin_edges)\n",
    "    ax.plot((np.arange(len(cdf))*width)+bin_edges[0], cdf, line_color, label=f\"cdf{i}\")\n",
    "    \n",
    "ax.set_title(\"PDFs and CDFs\")\n",
    "ax.legend(loc='lower right')\n",
    "\n",
    "plt.show()\n"
   ]
  },
  {
   "cell_type": "code",
   "execution_count": null,
   "metadata": {},
   "outputs": [],
   "source": []
  }
 ],
 "metadata": {
  "kernelspec": {
   "display_name": "Python 3",
   "language": "python",
   "name": "python3"
  },
  "language_info": {
   "codemirror_mode": {
    "name": "ipython",
    "version": 3
   },
   "file_extension": ".py",
   "mimetype": "text/x-python",
   "name": "python",
   "nbconvert_exporter": "python",
   "pygments_lexer": "ipython3",
   "version": "3.7.0"
  }
 },
 "nbformat": 4,
 "nbformat_minor": 4
}
